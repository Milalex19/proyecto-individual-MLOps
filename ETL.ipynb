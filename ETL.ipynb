{
 "cells": [
  {
   "cell_type": "markdown",
   "metadata": {},
   "source": [
    "### Proyecto individual MLOps"
   ]
  },
  {
   "cell_type": "markdown",
   "metadata": {},
   "source": [
    "### ETL"
   ]
  },
  {
   "cell_type": "markdown",
   "metadata": {},
   "source": [
    "### - Extracción de datos"
   ]
  },
  {
   "cell_type": "code",
   "execution_count": 17,
   "metadata": {},
   "outputs": [
    {
     "data": {
      "text/html": [
       "<div>\n",
       "<style scoped>\n",
       "    .dataframe tbody tr th:only-of-type {\n",
       "        vertical-align: middle;\n",
       "    }\n",
       "\n",
       "    .dataframe tbody tr th {\n",
       "        vertical-align: top;\n",
       "    }\n",
       "\n",
       "    .dataframe thead th {\n",
       "        text-align: right;\n",
       "    }\n",
       "</style>\n",
       "<table border=\"1\" class=\"dataframe\">\n",
       "  <thead>\n",
       "    <tr style=\"text-align: right;\">\n",
       "      <th></th>\n",
       "      <th>publisher</th>\n",
       "      <th>genres</th>\n",
       "      <th>app_name</th>\n",
       "      <th>title</th>\n",
       "      <th>url</th>\n",
       "      <th>release_date</th>\n",
       "      <th>tags</th>\n",
       "      <th>discount_price</th>\n",
       "      <th>reviews_url</th>\n",
       "      <th>specs</th>\n",
       "      <th>price</th>\n",
       "      <th>early_access</th>\n",
       "      <th>id</th>\n",
       "      <th>developer</th>\n",
       "      <th>sentiment</th>\n",
       "      <th>metascore</th>\n",
       "    </tr>\n",
       "  </thead>\n",
       "  <tbody>\n",
       "    <tr>\n",
       "      <th>0</th>\n",
       "      <td>Kotoshiro</td>\n",
       "      <td>[Action, Casual, Indie, Simulation, Strategy]</td>\n",
       "      <td>Lost Summoner Kitty</td>\n",
       "      <td>Lost Summoner Kitty</td>\n",
       "      <td>http://store.steampowered.com/app/761140/Lost_...</td>\n",
       "      <td>2018-01-04</td>\n",
       "      <td>[Strategy, Action, Indie, Casual, Simulation]</td>\n",
       "      <td>4.49</td>\n",
       "      <td>http://steamcommunity.com/app/761140/reviews/?...</td>\n",
       "      <td>[Single-player]</td>\n",
       "      <td>4.99</td>\n",
       "      <td>False</td>\n",
       "      <td>761140</td>\n",
       "      <td>Kotoshiro</td>\n",
       "      <td>NaN</td>\n",
       "      <td>NaN</td>\n",
       "    </tr>\n",
       "    <tr>\n",
       "      <th>1</th>\n",
       "      <td>Making Fun, Inc.</td>\n",
       "      <td>[Free to Play, Indie, RPG, Strategy]</td>\n",
       "      <td>Ironbound</td>\n",
       "      <td>Ironbound</td>\n",
       "      <td>http://store.steampowered.com/app/643980/Ironb...</td>\n",
       "      <td>2018-01-04</td>\n",
       "      <td>[Free to Play, Strategy, Indie, RPG, Card Game...</td>\n",
       "      <td>NaN</td>\n",
       "      <td>http://steamcommunity.com/app/643980/reviews/?...</td>\n",
       "      <td>[Single-player, Multi-player, Online Multi-Pla...</td>\n",
       "      <td>Free To Play</td>\n",
       "      <td>False</td>\n",
       "      <td>643980</td>\n",
       "      <td>Secret Level SRL</td>\n",
       "      <td>Mostly Positive</td>\n",
       "      <td>NaN</td>\n",
       "    </tr>\n",
       "    <tr>\n",
       "      <th>2</th>\n",
       "      <td>Poolians.com</td>\n",
       "      <td>[Casual, Free to Play, Indie, Simulation, Sports]</td>\n",
       "      <td>Real Pool 3D - Poolians</td>\n",
       "      <td>Real Pool 3D - Poolians</td>\n",
       "      <td>http://store.steampowered.com/app/670290/Real_...</td>\n",
       "      <td>2017-07-24</td>\n",
       "      <td>[Free to Play, Simulation, Sports, Casual, Ind...</td>\n",
       "      <td>NaN</td>\n",
       "      <td>http://steamcommunity.com/app/670290/reviews/?...</td>\n",
       "      <td>[Single-player, Multi-player, Online Multi-Pla...</td>\n",
       "      <td>Free to Play</td>\n",
       "      <td>False</td>\n",
       "      <td>670290</td>\n",
       "      <td>Poolians.com</td>\n",
       "      <td>Mostly Positive</td>\n",
       "      <td>NaN</td>\n",
       "    </tr>\n",
       "    <tr>\n",
       "      <th>3</th>\n",
       "      <td>彼岸领域</td>\n",
       "      <td>[Action, Adventure, Casual]</td>\n",
       "      <td>弹炸人2222</td>\n",
       "      <td>弹炸人2222</td>\n",
       "      <td>http://store.steampowered.com/app/767400/2222/</td>\n",
       "      <td>2017-12-07</td>\n",
       "      <td>[Action, Adventure, Casual]</td>\n",
       "      <td>0.83</td>\n",
       "      <td>http://steamcommunity.com/app/767400/reviews/?...</td>\n",
       "      <td>[Single-player]</td>\n",
       "      <td>0.99</td>\n",
       "      <td>False</td>\n",
       "      <td>767400</td>\n",
       "      <td>彼岸领域</td>\n",
       "      <td>NaN</td>\n",
       "      <td>NaN</td>\n",
       "    </tr>\n",
       "    <tr>\n",
       "      <th>4</th>\n",
       "      <td>NaN</td>\n",
       "      <td>NaN</td>\n",
       "      <td>Log Challenge</td>\n",
       "      <td>NaN</td>\n",
       "      <td>http://store.steampowered.com/app/773570/Log_C...</td>\n",
       "      <td>NaN</td>\n",
       "      <td>[Action, Indie, Casual, Sports]</td>\n",
       "      <td>1.79</td>\n",
       "      <td>http://steamcommunity.com/app/773570/reviews/?...</td>\n",
       "      <td>[Single-player, Full controller support, HTC V...</td>\n",
       "      <td>2.99</td>\n",
       "      <td>False</td>\n",
       "      <td>773570</td>\n",
       "      <td>NaN</td>\n",
       "      <td>NaN</td>\n",
       "      <td>NaN</td>\n",
       "    </tr>\n",
       "  </tbody>\n",
       "</table>\n",
       "</div>"
      ],
      "text/plain": [
       "          publisher                                             genres   \n",
       "0         Kotoshiro      [Action, Casual, Indie, Simulation, Strategy]  \\\n",
       "1  Making Fun, Inc.               [Free to Play, Indie, RPG, Strategy]   \n",
       "2      Poolians.com  [Casual, Free to Play, Indie, Simulation, Sports]   \n",
       "3              彼岸领域                        [Action, Adventure, Casual]   \n",
       "4               NaN                                                NaN   \n",
       "\n",
       "                  app_name                    title   \n",
       "0      Lost Summoner Kitty      Lost Summoner Kitty  \\\n",
       "1                Ironbound                Ironbound   \n",
       "2  Real Pool 3D - Poolians  Real Pool 3D - Poolians   \n",
       "3                  弹炸人2222                  弹炸人2222   \n",
       "4            Log Challenge                      NaN   \n",
       "\n",
       "                                                 url release_date   \n",
       "0  http://store.steampowered.com/app/761140/Lost_...   2018-01-04  \\\n",
       "1  http://store.steampowered.com/app/643980/Ironb...   2018-01-04   \n",
       "2  http://store.steampowered.com/app/670290/Real_...   2017-07-24   \n",
       "3     http://store.steampowered.com/app/767400/2222/   2017-12-07   \n",
       "4  http://store.steampowered.com/app/773570/Log_C...          NaN   \n",
       "\n",
       "                                                tags  discount_price   \n",
       "0      [Strategy, Action, Indie, Casual, Simulation]            4.49  \\\n",
       "1  [Free to Play, Strategy, Indie, RPG, Card Game...             NaN   \n",
       "2  [Free to Play, Simulation, Sports, Casual, Ind...             NaN   \n",
       "3                        [Action, Adventure, Casual]            0.83   \n",
       "4                    [Action, Indie, Casual, Sports]            1.79   \n",
       "\n",
       "                                         reviews_url   \n",
       "0  http://steamcommunity.com/app/761140/reviews/?...  \\\n",
       "1  http://steamcommunity.com/app/643980/reviews/?...   \n",
       "2  http://steamcommunity.com/app/670290/reviews/?...   \n",
       "3  http://steamcommunity.com/app/767400/reviews/?...   \n",
       "4  http://steamcommunity.com/app/773570/reviews/?...   \n",
       "\n",
       "                                               specs         price   \n",
       "0                                    [Single-player]          4.99  \\\n",
       "1  [Single-player, Multi-player, Online Multi-Pla...  Free To Play   \n",
       "2  [Single-player, Multi-player, Online Multi-Pla...  Free to Play   \n",
       "3                                    [Single-player]          0.99   \n",
       "4  [Single-player, Full controller support, HTC V...          2.99   \n",
       "\n",
       "   early_access      id         developer        sentiment metascore  \n",
       "0         False  761140         Kotoshiro              NaN       NaN  \n",
       "1         False  643980  Secret Level SRL  Mostly Positive       NaN  \n",
       "2         False  670290      Poolians.com  Mostly Positive       NaN  \n",
       "3         False  767400              彼岸领域              NaN       NaN  \n",
       "4         False  773570               NaN              NaN       NaN  "
      ]
     },
     "execution_count": 17,
     "metadata": {},
     "output_type": "execute_result"
    }
   ],
   "source": [
    "import ast\n",
    "import pandas as pd\n",
    "\n",
    "rows = []\n",
    "with open('steam_games.json') as data:# here test.json contains your data\n",
    "    for line in data.readlines():\n",
    "        rows.append(ast.literal_eval(line))\n",
    "\n",
    "df = pd.DataFrame(rows)  \n",
    "\n",
    "df.head()\n"
   ]
  },
  {
   "cell_type": "code",
   "execution_count": 18,
   "metadata": {},
   "outputs": [
    {
     "data": {
      "text/html": [
       "<div>\n",
       "<style scoped>\n",
       "    .dataframe tbody tr th:only-of-type {\n",
       "        vertical-align: middle;\n",
       "    }\n",
       "\n",
       "    .dataframe tbody tr th {\n",
       "        vertical-align: top;\n",
       "    }\n",
       "\n",
       "    .dataframe thead th {\n",
       "        text-align: right;\n",
       "    }\n",
       "</style>\n",
       "<table border=\"1\" class=\"dataframe\">\n",
       "  <thead>\n",
       "    <tr style=\"text-align: right;\">\n",
       "      <th></th>\n",
       "      <th>publisher</th>\n",
       "      <th>genres</th>\n",
       "      <th>app_name</th>\n",
       "      <th>title</th>\n",
       "      <th>url</th>\n",
       "      <th>release_date</th>\n",
       "      <th>tags</th>\n",
       "      <th>discount_price</th>\n",
       "      <th>reviews_url</th>\n",
       "      <th>specs</th>\n",
       "      <th>price</th>\n",
       "      <th>early_access</th>\n",
       "      <th>id</th>\n",
       "      <th>developer</th>\n",
       "      <th>sentiment</th>\n",
       "      <th>metascore</th>\n",
       "    </tr>\n",
       "  </thead>\n",
       "  <tbody>\n",
       "    <tr>\n",
       "      <th>32130</th>\n",
       "      <td>Ghost_RUS Games</td>\n",
       "      <td>[Casual, Indie, Simulation, Strategy]</td>\n",
       "      <td>Colony On Mars</td>\n",
       "      <td>Colony On Mars</td>\n",
       "      <td>http://store.steampowered.com/app/773640/Colon...</td>\n",
       "      <td>2018-01-04</td>\n",
       "      <td>[Strategy, Indie, Casual, Simulation]</td>\n",
       "      <td>1.49</td>\n",
       "      <td>http://steamcommunity.com/app/773640/reviews/?...</td>\n",
       "      <td>[Single-player, Steam Achievements]</td>\n",
       "      <td>1.99</td>\n",
       "      <td>False</td>\n",
       "      <td>773640</td>\n",
       "      <td>Nikita \"Ghost_RUS\"</td>\n",
       "      <td>NaN</td>\n",
       "      <td>NaN</td>\n",
       "    </tr>\n",
       "    <tr>\n",
       "      <th>32131</th>\n",
       "      <td>Sacada</td>\n",
       "      <td>[Casual, Indie, Strategy]</td>\n",
       "      <td>LOGistICAL: South Africa</td>\n",
       "      <td>LOGistICAL: South Africa</td>\n",
       "      <td>http://store.steampowered.com/app/733530/LOGis...</td>\n",
       "      <td>2018-01-04</td>\n",
       "      <td>[Strategy, Indie, Casual]</td>\n",
       "      <td>4.24</td>\n",
       "      <td>http://steamcommunity.com/app/733530/reviews/?...</td>\n",
       "      <td>[Single-player, Steam Achievements, Steam Clou...</td>\n",
       "      <td>4.99</td>\n",
       "      <td>False</td>\n",
       "      <td>733530</td>\n",
       "      <td>Sacada</td>\n",
       "      <td>NaN</td>\n",
       "      <td>NaN</td>\n",
       "    </tr>\n",
       "    <tr>\n",
       "      <th>32132</th>\n",
       "      <td>Laush Studio</td>\n",
       "      <td>[Indie, Racing, Simulation]</td>\n",
       "      <td>Russian Roads</td>\n",
       "      <td>Russian Roads</td>\n",
       "      <td>http://store.steampowered.com/app/610660/Russi...</td>\n",
       "      <td>2018-01-04</td>\n",
       "      <td>[Indie, Simulation, Racing]</td>\n",
       "      <td>1.39</td>\n",
       "      <td>http://steamcommunity.com/app/610660/reviews/?...</td>\n",
       "      <td>[Single-player, Steam Achievements, Steam Trad...</td>\n",
       "      <td>1.99</td>\n",
       "      <td>False</td>\n",
       "      <td>610660</td>\n",
       "      <td>Laush Dmitriy Sergeevich</td>\n",
       "      <td>NaN</td>\n",
       "      <td>NaN</td>\n",
       "    </tr>\n",
       "    <tr>\n",
       "      <th>32133</th>\n",
       "      <td>SIXNAILS</td>\n",
       "      <td>[Casual, Indie]</td>\n",
       "      <td>EXIT 2 - Directions</td>\n",
       "      <td>EXIT 2 - Directions</td>\n",
       "      <td>http://store.steampowered.com/app/658870/EXIT_...</td>\n",
       "      <td>2017-09-02</td>\n",
       "      <td>[Indie, Casual, Puzzle, Singleplayer, Atmosphe...</td>\n",
       "      <td>NaN</td>\n",
       "      <td>http://steamcommunity.com/app/658870/reviews/?...</td>\n",
       "      <td>[Single-player, Steam Achievements, Steam Cloud]</td>\n",
       "      <td>4.99</td>\n",
       "      <td>False</td>\n",
       "      <td>658870</td>\n",
       "      <td>xropi,stev3ns</td>\n",
       "      <td>1 user reviews</td>\n",
       "      <td>NaN</td>\n",
       "    </tr>\n",
       "    <tr>\n",
       "      <th>32134</th>\n",
       "      <td>NaN</td>\n",
       "      <td>NaN</td>\n",
       "      <td>Maze Run VR</td>\n",
       "      <td>NaN</td>\n",
       "      <td>http://store.steampowered.com/app/681550/Maze_...</td>\n",
       "      <td>NaN</td>\n",
       "      <td>[Early Access, Adventure, Indie, Action, Simul...</td>\n",
       "      <td>NaN</td>\n",
       "      <td>http://steamcommunity.com/app/681550/reviews/?...</td>\n",
       "      <td>[Single-player, Stats, Steam Leaderboards, HTC...</td>\n",
       "      <td>4.99</td>\n",
       "      <td>True</td>\n",
       "      <td>681550</td>\n",
       "      <td>NaN</td>\n",
       "      <td>Positive</td>\n",
       "      <td>NaN</td>\n",
       "    </tr>\n",
       "  </tbody>\n",
       "</table>\n",
       "</div>"
      ],
      "text/plain": [
       "             publisher                                 genres   \n",
       "32130  Ghost_RUS Games  [Casual, Indie, Simulation, Strategy]  \\\n",
       "32131           Sacada              [Casual, Indie, Strategy]   \n",
       "32132     Laush Studio            [Indie, Racing, Simulation]   \n",
       "32133         SIXNAILS                        [Casual, Indie]   \n",
       "32134              NaN                                    NaN   \n",
       "\n",
       "                       app_name                     title   \n",
       "32130            Colony On Mars            Colony On Mars  \\\n",
       "32131  LOGistICAL: South Africa  LOGistICAL: South Africa   \n",
       "32132             Russian Roads             Russian Roads   \n",
       "32133       EXIT 2 - Directions       EXIT 2 - Directions   \n",
       "32134               Maze Run VR                       NaN   \n",
       "\n",
       "                                                     url release_date   \n",
       "32130  http://store.steampowered.com/app/773640/Colon...   2018-01-04  \\\n",
       "32131  http://store.steampowered.com/app/733530/LOGis...   2018-01-04   \n",
       "32132  http://store.steampowered.com/app/610660/Russi...   2018-01-04   \n",
       "32133  http://store.steampowered.com/app/658870/EXIT_...   2017-09-02   \n",
       "32134  http://store.steampowered.com/app/681550/Maze_...          NaN   \n",
       "\n",
       "                                                    tags  discount_price   \n",
       "32130              [Strategy, Indie, Casual, Simulation]            1.49  \\\n",
       "32131                          [Strategy, Indie, Casual]            4.24   \n",
       "32132                        [Indie, Simulation, Racing]            1.39   \n",
       "32133  [Indie, Casual, Puzzle, Singleplayer, Atmosphe...             NaN   \n",
       "32134  [Early Access, Adventure, Indie, Action, Simul...             NaN   \n",
       "\n",
       "                                             reviews_url   \n",
       "32130  http://steamcommunity.com/app/773640/reviews/?...  \\\n",
       "32131  http://steamcommunity.com/app/733530/reviews/?...   \n",
       "32132  http://steamcommunity.com/app/610660/reviews/?...   \n",
       "32133  http://steamcommunity.com/app/658870/reviews/?...   \n",
       "32134  http://steamcommunity.com/app/681550/reviews/?...   \n",
       "\n",
       "                                                   specs price  early_access   \n",
       "32130                [Single-player, Steam Achievements]  1.99         False  \\\n",
       "32131  [Single-player, Steam Achievements, Steam Clou...  4.99         False   \n",
       "32132  [Single-player, Steam Achievements, Steam Trad...  1.99         False   \n",
       "32133   [Single-player, Steam Achievements, Steam Cloud]  4.99         False   \n",
       "32134  [Single-player, Stats, Steam Leaderboards, HTC...  4.99          True   \n",
       "\n",
       "           id                 developer       sentiment metascore  \n",
       "32130  773640        Nikita \"Ghost_RUS\"             NaN       NaN  \n",
       "32131  733530                    Sacada             NaN       NaN  \n",
       "32132  610660  Laush Dmitriy Sergeevich             NaN       NaN  \n",
       "32133  658870             xropi,stev3ns  1 user reviews       NaN  \n",
       "32134  681550                       NaN        Positive       NaN  "
      ]
     },
     "execution_count": 18,
     "metadata": {},
     "output_type": "execute_result"
    }
   ],
   "source": [
    "df.tail()"
   ]
  },
  {
   "cell_type": "code",
   "execution_count": 19,
   "metadata": {},
   "outputs": [
    {
     "data": {
      "text/plain": [
       "(32135, 16)"
      ]
     },
     "execution_count": 19,
     "metadata": {},
     "output_type": "execute_result"
    }
   ],
   "source": [
    "# Analizamos las dimensiones del DataFrame\n",
    "df.shape"
   ]
  },
  {
   "cell_type": "markdown",
   "metadata": {},
   "source": [
    "### Transformación"
   ]
  },
  {
   "cell_type": "code",
   "execution_count": 20,
   "metadata": {},
   "outputs": [
    {
     "name": "stdout",
     "output_type": "stream",
     "text": [
      "<class 'pandas.core.frame.DataFrame'>\n",
      "RangeIndex: 32135 entries, 0 to 32134\n",
      "Data columns (total 16 columns):\n",
      " #   Column          Non-Null Count  Dtype  \n",
      "---  ------          --------------  -----  \n",
      " 0   publisher       24083 non-null  object \n",
      " 1   genres          28852 non-null  object \n",
      " 2   app_name        32133 non-null  object \n",
      " 3   title           30085 non-null  object \n",
      " 4   url             32135 non-null  object \n",
      " 5   release_date    30068 non-null  object \n",
      " 6   tags            31972 non-null  object \n",
      " 7   discount_price  225 non-null    float64\n",
      " 8   reviews_url     32133 non-null  object \n",
      " 9   specs           31465 non-null  object \n",
      " 10  price           30758 non-null  object \n",
      " 11  early_access    32135 non-null  bool   \n",
      " 12  id              32133 non-null  object \n",
      " 13  developer       28836 non-null  object \n",
      " 14  sentiment       24953 non-null  object \n",
      " 15  metascore       2677 non-null   object \n",
      "dtypes: bool(1), float64(1), object(14)\n",
      "memory usage: 3.7+ MB\n"
     ]
    }
   ],
   "source": [
    "# Analizamos la descripcion del DataFrame\n",
    "df.info()"
   ]
  },
  {
   "cell_type": "code",
   "execution_count": 21,
   "metadata": {},
   "outputs": [],
   "source": [
    "# Considerando los datos y las preguntas a resolver considero que la columna \n",
    "# fecha es vital para el proceso entoces procedo a convertir las fechas en un formato valido\n",
    "df['release_date'] = pd.to_datetime(df['release_date'], errors='coerce')"
   ]
  },
  {
   "cell_type": "code",
   "execution_count": 22,
   "metadata": {},
   "outputs": [
    {
     "data": {
      "text/plain": [
       "2352"
      ]
     },
     "execution_count": 22,
     "metadata": {},
     "output_type": "execute_result"
    }
   ],
   "source": [
    "# Verifico datos nulos de las fechas\n",
    "df['release_date'].isnull().sum()\n"
   ]
  },
  {
   "cell_type": "code",
   "execution_count": 23,
   "metadata": {},
   "outputs": [],
   "source": [
    "# Elimino los datos nulos de la columna release_date\n",
    "df.dropna(subset=['release_date'], inplace=True)"
   ]
  },
  {
   "cell_type": "code",
   "execution_count": 24,
   "metadata": {},
   "outputs": [
    {
     "data": {
      "text/plain": [
       "Index(['genres', 'title', 'release_date', 'specs', 'price', 'early_access',\n",
       "       'sentiment', 'metascore'],\n",
       "      dtype='object')"
      ]
     },
     "execution_count": 24,
     "metadata": {},
     "output_type": "execute_result"
    }
   ],
   "source": [
    "# Eliminamos las columnas que considero que no son necesarias para contestar las preguntas solicitadas\n",
    "# por el tipo de datos la cantidad de nulos considero que estos datos no son relevantes para resolver el proyecto\n",
    "df.drop(columns=['publisher', 'url', 'discount_price', 'reviews_url', 'app_name','tags', 'developer', 'id' ], inplace = True)\n",
    "df.columns"
   ]
  },
  {
   "cell_type": "code",
   "execution_count": 25,
   "metadata": {},
   "outputs": [
    {
     "name": "stdout",
     "output_type": "stream",
     "text": [
      "<class 'pandas.core.frame.DataFrame'>\n",
      "Index: 29783 entries, 0 to 32133\n",
      "Data columns (total 8 columns):\n",
      " #   Column        Non-Null Count  Dtype         \n",
      "---  ------        --------------  -----         \n",
      " 0   genres        28549 non-null  object        \n",
      " 1   title         29782 non-null  object        \n",
      " 2   release_date  29783 non-null  datetime64[ns]\n",
      " 3   specs         29114 non-null  object        \n",
      " 4   price         28782 non-null  object        \n",
      " 5   early_access  29783 non-null  bool          \n",
      " 6   sentiment     23116 non-null  object        \n",
      " 7   metascore     2615 non-null   object        \n",
      "dtypes: bool(1), datetime64[ns](1), object(6)\n",
      "memory usage: 1.8+ MB\n"
     ]
    }
   ],
   "source": [
    "# Reviso como canbio la descripcion del DataFrame\n",
    "df.info()"
   ]
  },
  {
   "cell_type": "code",
   "execution_count": 26,
   "metadata": {},
   "outputs": [
    {
     "data": {
      "text/plain": [
       "genres           1234\n",
       "title               1\n",
       "release_date        0\n",
       "specs             669\n",
       "price            1001\n",
       "early_access        0\n",
       "sentiment        6667\n",
       "metascore       27168\n",
       "dtype: int64"
      ]
     },
     "execution_count": 26,
     "metadata": {},
     "output_type": "execute_result"
    }
   ],
   "source": [
    "# verifico datos nulos de DataFrame\n",
    "df.isnull().sum()"
   ]
  },
  {
   "cell_type": "code",
   "execution_count": 27,
   "metadata": {},
   "outputs": [],
   "source": [
    "# Elimino los datos nulos de genres, title, specs, price\n",
    "df = df.dropna(subset=['genres', 'title', 'specs', 'price'])"
   ]
  },
  {
   "cell_type": "code",
   "execution_count": 28,
   "metadata": {},
   "outputs": [
    {
     "data": {
      "text/plain": [
       "genres              0\n",
       "title               0\n",
       "release_date        0\n",
       "specs               0\n",
       "price               0\n",
       "early_access        0\n",
       "sentiment        5755\n",
       "metascore       24726\n",
       "dtype: int64"
      ]
     },
     "execution_count": 28,
     "metadata": {},
     "output_type": "execute_result"
    }
   ],
   "source": [
    "# verifico que datos nulos quedaron en el DataFrame\n",
    "df.isnull().sum()"
   ]
  },
  {
   "cell_type": "code",
   "execution_count": 30,
   "metadata": {},
   "outputs": [],
   "source": [
    "# tranformo la columna metascore en numero\n",
    "df['metascore'] = pd.to_numeric(df['metascore'], errors='coerce')"
   ]
  },
  {
   "cell_type": "code",
   "execution_count": 34,
   "metadata": {},
   "outputs": [],
   "source": [
    "# para la primer parte del proyecto reemplazo los datos nulos de metascore por 0 para no perder tantos datos\n",
    "df['metascore'].fillna(0, inplace=True)\n"
   ]
  },
  {
   "cell_type": "code",
   "execution_count": 35,
   "metadata": {},
   "outputs": [],
   "source": [
    "# y la columna sentiment reemplazo  los nulos por  Sin comentarios\n",
    "df['sentiment'].fillna('Sin comentarios', inplace=True)"
   ]
  },
  {
   "cell_type": "code",
   "execution_count": 36,
   "metadata": {},
   "outputs": [
    {
     "data": {
      "text/plain": [
       "genres          0\n",
       "title           0\n",
       "release_date    0\n",
       "specs           0\n",
       "price           0\n",
       "early_access    0\n",
       "sentiment       0\n",
       "metascore       0\n",
       "dtype: int64"
      ]
     },
     "execution_count": 36,
     "metadata": {},
     "output_type": "execute_result"
    }
   ],
   "source": [
    "# verifico que datos nulos quedaron en el DataFrame\n",
    "df.isnull().sum()"
   ]
  },
  {
   "cell_type": "code",
   "execution_count": 37,
   "metadata": {},
   "outputs": [
    {
     "name": "stdout",
     "output_type": "stream",
     "text": [
      "<class 'pandas.core.frame.DataFrame'>\n",
      "Index: 27299 entries, 0 to 32133\n",
      "Data columns (total 8 columns):\n",
      " #   Column        Non-Null Count  Dtype         \n",
      "---  ------        --------------  -----         \n",
      " 0   genres        27299 non-null  object        \n",
      " 1   title         27299 non-null  object        \n",
      " 2   release_date  27299 non-null  datetime64[ns]\n",
      " 3   specs         27299 non-null  object        \n",
      " 4   price         27299 non-null  object        \n",
      " 5   early_access  27299 non-null  bool          \n",
      " 6   sentiment     27299 non-null  object        \n",
      " 7   metascore     27299 non-null  float64       \n",
      "dtypes: bool(1), datetime64[ns](1), float64(1), object(5)\n",
      "memory usage: 1.7+ MB\n"
     ]
    }
   ],
   "source": [
    "# Verifico como quedo el DataFrame\n",
    "df.info()"
   ]
  },
  {
   "cell_type": "code",
   "execution_count": 38,
   "metadata": {},
   "outputs": [
    {
     "data": {
      "text/html": [
       "<div>\n",
       "<style scoped>\n",
       "    .dataframe tbody tr th:only-of-type {\n",
       "        vertical-align: middle;\n",
       "    }\n",
       "\n",
       "    .dataframe tbody tr th {\n",
       "        vertical-align: top;\n",
       "    }\n",
       "\n",
       "    .dataframe thead th {\n",
       "        text-align: right;\n",
       "    }\n",
       "</style>\n",
       "<table border=\"1\" class=\"dataframe\">\n",
       "  <thead>\n",
       "    <tr style=\"text-align: right;\">\n",
       "      <th></th>\n",
       "      <th>genres</th>\n",
       "      <th>title</th>\n",
       "      <th>release_date</th>\n",
       "      <th>specs</th>\n",
       "      <th>price</th>\n",
       "      <th>early_access</th>\n",
       "      <th>sentiment</th>\n",
       "      <th>metascore</th>\n",
       "    </tr>\n",
       "  </thead>\n",
       "  <tbody>\n",
       "    <tr>\n",
       "      <th>0</th>\n",
       "      <td>[Action, Casual, Indie, Simulation, Strategy]</td>\n",
       "      <td>Lost Summoner Kitty</td>\n",
       "      <td>2018-01-04</td>\n",
       "      <td>[Single-player]</td>\n",
       "      <td>4.99</td>\n",
       "      <td>False</td>\n",
       "      <td>Sin comentarios</td>\n",
       "      <td>0.0</td>\n",
       "    </tr>\n",
       "    <tr>\n",
       "      <th>1</th>\n",
       "      <td>[Free to Play, Indie, RPG, Strategy]</td>\n",
       "      <td>Ironbound</td>\n",
       "      <td>2018-01-04</td>\n",
       "      <td>[Single-player, Multi-player, Online Multi-Pla...</td>\n",
       "      <td>Free To Play</td>\n",
       "      <td>False</td>\n",
       "      <td>Mostly Positive</td>\n",
       "      <td>0.0</td>\n",
       "    </tr>\n",
       "    <tr>\n",
       "      <th>2</th>\n",
       "      <td>[Casual, Free to Play, Indie, Simulation, Sports]</td>\n",
       "      <td>Real Pool 3D - Poolians</td>\n",
       "      <td>2017-07-24</td>\n",
       "      <td>[Single-player, Multi-player, Online Multi-Pla...</td>\n",
       "      <td>Free to Play</td>\n",
       "      <td>False</td>\n",
       "      <td>Mostly Positive</td>\n",
       "      <td>0.0</td>\n",
       "    </tr>\n",
       "    <tr>\n",
       "      <th>3</th>\n",
       "      <td>[Action, Adventure, Casual]</td>\n",
       "      <td>弹炸人2222</td>\n",
       "      <td>2017-12-07</td>\n",
       "      <td>[Single-player]</td>\n",
       "      <td>0.99</td>\n",
       "      <td>False</td>\n",
       "      <td>Sin comentarios</td>\n",
       "      <td>0.0</td>\n",
       "    </tr>\n",
       "    <tr>\n",
       "      <th>5</th>\n",
       "      <td>[Action, Adventure, Simulation]</td>\n",
       "      <td>Battle Royale Trainer</td>\n",
       "      <td>2018-01-04</td>\n",
       "      <td>[Single-player, Steam Achievements]</td>\n",
       "      <td>3.99</td>\n",
       "      <td>False</td>\n",
       "      <td>Mixed</td>\n",
       "      <td>0.0</td>\n",
       "    </tr>\n",
       "  </tbody>\n",
       "</table>\n",
       "</div>"
      ],
      "text/plain": [
       "                                              genres                    title   \n",
       "0      [Action, Casual, Indie, Simulation, Strategy]      Lost Summoner Kitty  \\\n",
       "1               [Free to Play, Indie, RPG, Strategy]                Ironbound   \n",
       "2  [Casual, Free to Play, Indie, Simulation, Sports]  Real Pool 3D - Poolians   \n",
       "3                        [Action, Adventure, Casual]                  弹炸人2222   \n",
       "5                    [Action, Adventure, Simulation]    Battle Royale Trainer   \n",
       "\n",
       "  release_date                                              specs   \n",
       "0   2018-01-04                                    [Single-player]  \\\n",
       "1   2018-01-04  [Single-player, Multi-player, Online Multi-Pla...   \n",
       "2   2017-07-24  [Single-player, Multi-player, Online Multi-Pla...   \n",
       "3   2017-12-07                                    [Single-player]   \n",
       "5   2018-01-04                [Single-player, Steam Achievements]   \n",
       "\n",
       "          price  early_access        sentiment  metascore  \n",
       "0          4.99         False  Sin comentarios        0.0  \n",
       "1  Free To Play         False  Mostly Positive        0.0  \n",
       "2  Free to Play         False  Mostly Positive        0.0  \n",
       "3          0.99         False  Sin comentarios        0.0  \n",
       "5          3.99         False            Mixed        0.0  "
      ]
     },
     "execution_count": 38,
     "metadata": {},
     "output_type": "execute_result"
    }
   ],
   "source": [
    "df.head()"
   ]
  },
  {
   "cell_type": "markdown",
   "metadata": {},
   "source": [
    "### Carga"
   ]
  },
  {
   "cell_type": "code",
   "execution_count": null,
   "metadata": {},
   "outputs": [],
   "source": [
    "# Con los datos limpios a mi consideracion procedo a crear un archivo csv para los proximos pasos de proyecto \n",
    "df = df.to_csv('steam_games.csv', index=False)"
   ]
  }
 ],
 "metadata": {
  "kernelspec": {
   "display_name": "Python 3",
   "language": "python",
   "name": "python3"
  },
  "language_info": {
   "codemirror_mode": {
    "name": "ipython",
    "version": 3
   },
   "file_extension": ".py",
   "mimetype": "text/x-python",
   "name": "python",
   "nbconvert_exporter": "python",
   "pygments_lexer": "ipython3",
   "version": "3.11.2"
  },
  "orig_nbformat": 4
 },
 "nbformat": 4,
 "nbformat_minor": 2
}
